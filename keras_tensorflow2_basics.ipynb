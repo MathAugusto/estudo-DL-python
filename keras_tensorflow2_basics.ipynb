{
  "nbformat": 4,
  "nbformat_minor": 0,
  "metadata": {
    "colab": {
      "name": "keras-tensorflow2-basics.ipynb",
      "provenance": [],
      "collapsed_sections": [],
      "authorship_tag": "ABX9TyNbh1ncSt1FN6LiZw0YdUa7"
    },
    "kernelspec": {
      "name": "python3",
      "display_name": "Python 3"
    }
  },
  "cells": [
    {
      "cell_type": "code",
      "metadata": {
        "colab": {
          "base_uri": "https://localhost:8080/",
          "height": 36
        },
        "id": "IgEoLbf0RzfJ",
        "outputId": "04eb975a-71d2-4097-921b-8543bc6a8f26"
      },
      "source": [
        "# Importando o tensorflow e verificando a versão\n",
        "import tensorflow as tf\n",
        "tf.__version__"
      ],
      "execution_count": 1,
      "outputs": [
        {
          "output_type": "execute_result",
          "data": {
            "application/vnd.google.colaboratory.intrinsic+json": {
              "type": "string"
            },
            "text/plain": [
              "'2.4.0'"
            ]
          },
          "metadata": {
            "tags": []
          },
          "execution_count": 1
        }
      ]
    },
    {
      "cell_type": "code",
      "metadata": {
        "id": "tZ3IFJ7LSA4Y"
      },
      "source": [
        "# Import de outras bibliotecas\n",
        "import pandas as pd\n",
        "import numpy as np\n",
        "import seaborn as sns\n",
        "import matplotlib.pyplot as plt\n",
        "\n",
        "%matplotlib inline\n",
        "sns.set_style('whitegrid')"
      ],
      "execution_count": 2,
      "outputs": []
    },
    {
      "cell_type": "code",
      "metadata": {
        "id": "LNiWCLRwYICI"
      },
      "source": [
        "# Gerando um pd.DataFrame através de um arquivo excel\n",
        "df = pd.read_csv('fake_reg.csv')"
      ],
      "execution_count": 3,
      "outputs": []
    },
    {
      "cell_type": "code",
      "metadata": {
        "colab": {
          "base_uri": "https://localhost:8080/",
          "height": 206
        },
        "id": "c0DOhZAtYIEK",
        "outputId": "920a216e-41ac-485a-bd4c-6a9f0f7fb8a9"
      },
      "source": [
        "# DataFrame\n",
        "df.head()"
      ],
      "execution_count": 4,
      "outputs": [
        {
          "output_type": "execute_result",
          "data": {
            "text/html": [
              "<div>\n",
              "<style scoped>\n",
              "    .dataframe tbody tr th:only-of-type {\n",
              "        vertical-align: middle;\n",
              "    }\n",
              "\n",
              "    .dataframe tbody tr th {\n",
              "        vertical-align: top;\n",
              "    }\n",
              "\n",
              "    .dataframe thead th {\n",
              "        text-align: right;\n",
              "    }\n",
              "</style>\n",
              "<table border=\"1\" class=\"dataframe\">\n",
              "  <thead>\n",
              "    <tr style=\"text-align: right;\">\n",
              "      <th></th>\n",
              "      <th>price</th>\n",
              "      <th>feature1</th>\n",
              "      <th>feature2</th>\n",
              "    </tr>\n",
              "  </thead>\n",
              "  <tbody>\n",
              "    <tr>\n",
              "      <th>0</th>\n",
              "      <td>461.527929</td>\n",
              "      <td>999.787558</td>\n",
              "      <td>999.766096</td>\n",
              "    </tr>\n",
              "    <tr>\n",
              "      <th>1</th>\n",
              "      <td>548.130011</td>\n",
              "      <td>998.861615</td>\n",
              "      <td>1001.042403</td>\n",
              "    </tr>\n",
              "    <tr>\n",
              "      <th>2</th>\n",
              "      <td>410.297162</td>\n",
              "      <td>1000.070267</td>\n",
              "      <td>998.844015</td>\n",
              "    </tr>\n",
              "    <tr>\n",
              "      <th>3</th>\n",
              "      <td>540.382220</td>\n",
              "      <td>999.952251</td>\n",
              "      <td>1000.440940</td>\n",
              "    </tr>\n",
              "    <tr>\n",
              "      <th>4</th>\n",
              "      <td>546.024553</td>\n",
              "      <td>1000.446011</td>\n",
              "      <td>1000.338531</td>\n",
              "    </tr>\n",
              "  </tbody>\n",
              "</table>\n",
              "</div>"
            ],
            "text/plain": [
              "        price     feature1     feature2\n",
              "0  461.527929   999.787558   999.766096\n",
              "1  548.130011   998.861615  1001.042403\n",
              "2  410.297162  1000.070267   998.844015\n",
              "3  540.382220   999.952251  1000.440940\n",
              "4  546.024553  1000.446011  1000.338531"
            ]
          },
          "metadata": {
            "tags": []
          },
          "execution_count": 4
        }
      ]
    },
    {
      "cell_type": "code",
      "metadata": {
        "colab": {
          "base_uri": "https://localhost:8080/"
        },
        "id": "H-_x8YCHYIGf",
        "outputId": "55440f71-10da-497b-c585-5beb09f82fd3"
      },
      "source": [
        "# Verificar valores null:\n",
        "df.isnull().sum()"
      ],
      "execution_count": 5,
      "outputs": [
        {
          "output_type": "execute_result",
          "data": {
            "text/plain": [
              "price       0\n",
              "feature1    0\n",
              "feature2    0\n",
              "dtype: int64"
            ]
          },
          "metadata": {
            "tags": []
          },
          "execution_count": 5
        }
      ]
    },
    {
      "cell_type": "code",
      "metadata": {
        "colab": {
          "base_uri": "https://localhost:8080/",
          "height": 569
        },
        "id": "3Acmh1jJfNtk",
        "outputId": "44b29ff2-f5e8-4b83-b7ae-071acfee2f03"
      },
      "source": [
        "# Visualization\n",
        "sns.pairplot(df)"
      ],
      "execution_count": 6,
      "outputs": [
        {
          "output_type": "execute_result",
          "data": {
            "text/plain": [
              "<seaborn.axisgrid.PairGrid at 0x7fa6fe078668>"
            ]
          },
          "metadata": {
            "tags": []
          },
          "execution_count": 6
        },
        {
          "output_type": "display_data",
          "data": {
            "image/png": "[encoded data removed]",
            "text/plain": [
              "<Figure size 540x540 with 12 Axes>"
            ]
          },
          "metadata": {
            "tags": []
          }
        }
      ]
    },
    {
      "cell_type": "code",
      "metadata": {
        "id": "FsUoyG7Wt6NV"
      },
      "source": [
        "from sklearn.model_selection import train_test_split"
      ],
      "execution_count": 7,
      "outputs": []
    },
    {
      "cell_type": "code",
      "metadata": {
        "id": "cHkuZ-9zuR2N"
      },
      "source": [
        "# Por ser tensorflow, devemos passar com 2 colchetes [[]].values\n",
        "# Assim os valores viram numpy arrays inves de pandas dataframes\n",
        "X = df[['feature1', 'feature2']].values\n",
        "y = df[['price']].values"
      ],
      "execution_count": 8,
      "outputs": []
    },
    {
      "cell_type": "code",
      "metadata": {
        "id": "LvkPHsGyu7Jk"
      },
      "source": [
        "X_train, X_test, y_train, y_test = train_test_split(X, y, test_size=0.3, random_state=42)"
      ],
      "execution_count": 9,
      "outputs": []
    },
    {
      "cell_type": "code",
      "metadata": {
        "colab": {
          "base_uri": "https://localhost:8080/"
        },
        "id": "l1eDuU04vGKY",
        "outputId": "3cb44131-931a-4bd2-82dc-415e05dd3960"
      },
      "source": [
        "X_train.shape"
      ],
      "execution_count": 10,
      "outputs": [
        {
          "output_type": "execute_result",
          "data": {
            "text/plain": [
              "(700, 2)"
            ]
          },
          "metadata": {
            "tags": []
          },
          "execution_count": 10
        }
      ]
    },
    {
      "cell_type": "code",
      "metadata": {
        "colab": {
          "base_uri": "https://localhost:8080/"
        },
        "id": "Hyxm0yqBvxaJ",
        "outputId": "b75ec35f-ebbb-470e-bb04-cfd66fa63e73"
      },
      "source": [
        "X_test.shape"
      ],
      "execution_count": 11,
      "outputs": [
        {
          "output_type": "execute_result",
          "data": {
            "text/plain": [
              "(300, 2)"
            ]
          },
          "metadata": {
            "tags": []
          },
          "execution_count": 11
        }
      ]
    },
    {
      "cell_type": "code",
      "metadata": {
        "id": "mF_1Fxyfv4G1"
      },
      "source": [
        "# Feature Scaling\n",
        "from sklearn.preprocessing import MinMaxScaler"
      ],
      "execution_count": 12,
      "outputs": []
    },
    {
      "cell_type": "code",
      "metadata": {
        "id": "_G4K3mSTwMTw"
      },
      "source": [
        "scaler = MinMaxScaler()"
      ],
      "execution_count": 13,
      "outputs": []
    },
    {
      "cell_type": "code",
      "metadata": {
        "colab": {
          "base_uri": "https://localhost:8080/"
        },
        "id": "639MNOm9wMWI",
        "outputId": "5c1805d8-a844-4985-9cc7-f2de7752a15b"
      },
      "source": [
        "scaler.fit(X_train)"
      ],
      "execution_count": 14,
      "outputs": [
        {
          "output_type": "execute_result",
          "data": {
            "text/plain": [
              "MinMaxScaler(copy=True, feature_range=(0, 1))"
            ]
          },
          "metadata": {
            "tags": []
          },
          "execution_count": 14
        }
      ]
    },
    {
      "cell_type": "code",
      "metadata": {
        "id": "vCQsZGXewMYn"
      },
      "source": [
        "X_train = scaler.transform(X_train)"
      ],
      "execution_count": 15,
      "outputs": []
    },
    {
      "cell_type": "code",
      "metadata": {
        "id": "z32MEp2GwMa6"
      },
      "source": [
        "X_test = scaler.transform(X_test)"
      ],
      "execution_count": 16,
      "outputs": []
    },
    {
      "cell_type": "code",
      "metadata": {
        "id": "5laapmM3xFTG"
      },
      "source": [
        "# Criando e treinando o modelo"
      ],
      "execution_count": 17,
      "outputs": []
    },
    {
      "cell_type": "code",
      "metadata": {
        "id": "eLxm9SQExFVl"
      },
      "source": [
        "from tensorflow.keras.models import Sequential\n",
        "from tensorflow.keras.layers import Dense, Activation"
      ],
      "execution_count": 18,
      "outputs": []
    },
    {
      "cell_type": "code",
      "metadata": {
        "id": "OnGy_3Q6xf-D"
      },
      "source": [
        "# units = neuronios no layers (4)\n",
        "# activation = faz a chamada da função de ativação \n",
        "model = Sequential()\n",
        "\n",
        "model.add(Dense(4,activation='relu'))\n",
        "model.add(Dense(4,activation='relu'))\n",
        "model.add(Dense(4,activation='relu'))\n",
        "\n",
        "model.add(Dense(1))\n",
        "\n",
        "model.compile(optimizer='rmsprop', loss='mse')"
      ],
      "execution_count": 19,
      "outputs": []
    },
    {
      "cell_type": "code",
      "metadata": {
        "id": "XeSjT2cUxFYO",
        "colab": {
          "base_uri": "https://localhost:8080/"
        },
        "outputId": "a54a672f-55d4-4bb4-f0bb-7a297c7de242"
      },
      "source": [
        "model.fit(X_train,y_train,epochs=250)"
      ],
      "execution_count": 20,
      "outputs": [
        {
          "output_type": "stream",
          "text": [
            "Epoch 1/250\n",
            "22/22 [==============================] - 1s 2ms/step - loss: 259851.6549\n",
            "Epoch 2/250\n",
            "22/22 [==============================] - 0s 1ms/step - loss: 261353.1848\n",
            "Epoch 3/250\n",
            "22/22 [==============================] - 0s 1ms/step - loss: 252811.0530\n",
            "Epoch 4/250\n",
            "22/22 [==============================] - 0s 1ms/step - loss: 258909.2385\n",
            "Epoch 5/250\n",
            "22/22 [==============================] - 0s 1ms/step - loss: 255947.2466\n",
            "Epoch 6/250\n",
            "22/22 [==============================] - 0s 1ms/step - loss: 257172.1046\n",
            "Epoch 7/250\n",
            "22/22 [==============================] - 0s 1ms/step - loss: 258419.8404\n",
            "Epoch 8/250\n",
            "22/22 [==============================] - 0s 1ms/step - loss: 256698.2527\n",
            "Epoch 9/250\n",
            "22/22 [==============================] - 0s 1ms/step - loss: 258664.1236\n",
            "Epoch 10/250\n",
            "22/22 [==============================] - 0s 1ms/step - loss: 254106.4579\n",
            "Epoch 11/250\n",
            "22/22 [==============================] - 0s 1ms/step - loss: 254201.0564\n",
            "Epoch 12/250\n",
            "22/22 [==============================] - 0s 1ms/step - loss: 255195.8179\n",
            "Epoch 13/250\n",
            "22/22 [==============================] - 0s 1ms/step - loss: 255398.3512\n",
            "Epoch 14/250\n",
            "22/22 [==============================] - 0s 1ms/step - loss: 249852.2215\n",
            "Epoch 15/250\n",
            "22/22 [==============================] - 0s 1ms/step - loss: 249635.9721\n",
            "Epoch 16/250\n",
            "22/22 [==============================] - 0s 1ms/step - loss: 251263.6576\n",
            "Epoch 17/250\n",
            "22/22 [==============================] - 0s 1ms/step - loss: 252594.9844\n",
            "Epoch 18/250\n",
            "22/22 [==============================] - 0s 1ms/step - loss: 254478.3899\n",
            "Epoch 19/250\n",
            "22/22 [==============================] - 0s 1ms/step - loss: 249357.2663\n",
            "Epoch 20/250\n",
            "22/22 [==============================] - 0s 1ms/step - loss: 246320.8410\n",
            "Epoch 21/250\n",
            "22/22 [==============================] - 0s 1ms/step - loss: 247188.8961\n",
            "Epoch 22/250\n",
            "22/22 [==============================] - 0s 1ms/step - loss: 241967.8628\n",
            "Epoch 23/250\n",
            "22/22 [==============================] - 0s 1ms/step - loss: 245201.9959\n",
            "Epoch 24/250\n",
            "22/22 [==============================] - 0s 1ms/step - loss: 244857.1223\n",
            "Epoch 25/250\n",
            "22/22 [==============================] - 0s 1ms/step - loss: 241833.6420\n",
            "Epoch 26/250\n",
            "22/22 [==============================] - 0s 1ms/step - loss: 242670.2079\n",
            "Epoch 27/250\n",
            "22/22 [==============================] - 0s 1ms/step - loss: 239577.4660\n",
            "Epoch 28/250\n",
            "22/22 [==============================] - 0s 1ms/step - loss: 234726.9137\n",
            "Epoch 29/250\n",
            "22/22 [==============================] - 0s 1ms/step - loss: 241226.4273\n",
            "Epoch 30/250\n",
            "22/22 [==============================] - 0s 1ms/step - loss: 234203.1223\n",
            "Epoch 31/250\n",
            "22/22 [==============================] - 0s 1ms/step - loss: 230215.3016\n",
            "Epoch 32/250\n",
            "22/22 [==============================] - 0s 1ms/step - loss: 231891.6787\n",
            "Epoch 33/250\n",
            "22/22 [==============================] - 0s 1ms/step - loss: 229345.7459\n",
            "Epoch 34/250\n",
            "22/22 [==============================] - 0s 1ms/step - loss: 227927.5605\n",
            "Epoch 35/250\n",
            "22/22 [==============================] - 0s 1ms/step - loss: 226199.3424\n",
            "Epoch 36/250\n",
            "22/22 [==============================] - 0s 1ms/step - loss: 220678.5177\n",
            "Epoch 37/250\n",
            "22/22 [==============================] - 0s 1ms/step - loss: 224012.8390\n",
            "Epoch 38/250\n",
            "22/22 [==============================] - 0s 1ms/step - loss: 220581.8641\n",
            "Epoch 39/250\n",
            "22/22 [==============================] - 0s 1ms/step - loss: 218105.2018\n",
            "Epoch 40/250\n",
            "22/22 [==============================] - 0s 1ms/step - loss: 213912.5510\n",
            "Epoch 41/250\n",
            "22/22 [==============================] - 0s 1ms/step - loss: 210620.6957\n",
            "Epoch 42/250\n",
            "22/22 [==============================] - 0s 1ms/step - loss: 208339.8499\n",
            "Epoch 43/250\n",
            "22/22 [==============================] - 0s 1ms/step - loss: 200942.8750\n",
            "Epoch 44/250\n",
            "22/22 [==============================] - 0s 1ms/step - loss: 194643.8207\n",
            "Epoch 45/250\n",
            "22/22 [==============================] - 0s 1ms/step - loss: 191495.1569\n",
            "Epoch 46/250\n",
            "22/22 [==============================] - 0s 1ms/step - loss: 187063.0292\n",
            "Epoch 47/250\n",
            "22/22 [==============================] - 0s 1ms/step - loss: 182852.8499\n",
            "Epoch 48/250\n",
            "22/22 [==============================] - 0s 1ms/step - loss: 176407.9409\n",
            "Epoch 49/250\n",
            "22/22 [==============================] - 0s 1ms/step - loss: 173140.2323\n",
            "Epoch 50/250\n",
            "22/22 [==============================] - 0s 1ms/step - loss: 173907.6658\n",
            "Epoch 51/250\n",
            "22/22 [==============================] - 0s 1ms/step - loss: 160181.5707\n",
            "Epoch 52/250\n",
            "22/22 [==============================] - 0s 1ms/step - loss: 157734.0618\n",
            "Epoch 53/250\n",
            "22/22 [==============================] - 0s 1ms/step - loss: 152176.9932\n",
            "Epoch 54/250\n",
            "22/22 [==============================] - 0s 1ms/step - loss: 149358.1168\n",
            "Epoch 55/250\n",
            "22/22 [==============================] - 0s 1ms/step - loss: 142933.3166\n",
            "Epoch 56/250\n",
            "22/22 [==============================] - 0s 1ms/step - loss: 135360.2636\n",
            "Epoch 57/250\n",
            "22/22 [==============================] - 0s 1ms/step - loss: 131148.7622\n",
            "Epoch 58/250\n",
            "22/22 [==============================] - 0s 1ms/step - loss: 123146.1243\n",
            "Epoch 59/250\n",
            "22/22 [==============================] - 0s 1ms/step - loss: 118281.9222\n",
            "Epoch 60/250\n",
            "22/22 [==============================] - 0s 1ms/step - loss: 111942.4416\n",
            "Epoch 61/250\n",
            "22/22 [==============================] - 0s 1ms/step - loss: 107383.8940\n",
            "Epoch 62/250\n",
            "22/22 [==============================] - 0s 1ms/step - loss: 99853.6936\n",
            "Epoch 63/250\n",
            "22/22 [==============================] - 0s 1ms/step - loss: 94154.8156\n",
            "Epoch 64/250\n",
            "22/22 [==============================] - 0s 1ms/step - loss: 88077.4093\n",
            "Epoch 65/250\n",
            "22/22 [==============================] - 0s 1ms/step - loss: 81018.1298\n",
            "Epoch 66/250\n",
            "22/22 [==============================] - 0s 1ms/step - loss: 78042.2385\n",
            "Epoch 67/250\n",
            "22/22 [==============================] - 0s 1ms/step - loss: 66448.6367\n",
            "Epoch 68/250\n",
            "22/22 [==============================] - 0s 1ms/step - loss: 60356.2407\n",
            "Epoch 69/250\n",
            "22/22 [==============================] - 0s 1ms/step - loss: 57256.7750\n",
            "Epoch 70/250\n",
            "22/22 [==============================] - 0s 1ms/step - loss: 49433.7077\n",
            "Epoch 71/250\n",
            "22/22 [==============================] - 0s 1ms/step - loss: 46023.9839\n",
            "Epoch 72/250\n",
            "22/22 [==============================] - 0s 1ms/step - loss: 38645.7138\n",
            "Epoch 73/250\n",
            "22/22 [==============================] - 0s 1ms/step - loss: 34705.3212\n",
            "Epoch 74/250\n",
            "22/22 [==============================] - 0s 1ms/step - loss: 28607.2891\n",
            "Epoch 75/250\n",
            "22/22 [==============================] - 0s 1ms/step - loss: 23990.9240\n",
            "Epoch 76/250\n",
            "22/22 [==============================] - 0s 1ms/step - loss: 19334.7261\n",
            "Epoch 77/250\n",
            "22/22 [==============================] - 0s 1ms/step - loss: 15575.9760\n",
            "Epoch 78/250\n",
            "22/22 [==============================] - 0s 1ms/step - loss: 12963.3424\n",
            "Epoch 79/250\n",
            "22/22 [==============================] - 0s 1ms/step - loss: 9366.7938\n",
            "Epoch 80/250\n",
            "22/22 [==============================] - 0s 1ms/step - loss: 7126.4272\n",
            "Epoch 81/250\n",
            "22/22 [==============================] - 0s 1ms/step - loss: 4890.2458\n",
            "Epoch 82/250\n",
            "22/22 [==============================] - 0s 1ms/step - loss: 3582.6891\n",
            "Epoch 83/250\n",
            "22/22 [==============================] - 0s 1ms/step - loss: 2929.3642\n",
            "Epoch 84/250\n",
            "22/22 [==============================] - 0s 1ms/step - loss: 2545.0586\n",
            "Epoch 85/250\n",
            "22/22 [==============================] - 0s 1ms/step - loss: 2489.6792\n",
            "Epoch 86/250\n",
            "22/22 [==============================] - 0s 1ms/step - loss: 2417.3572\n",
            "Epoch 87/250\n",
            "22/22 [==============================] - 0s 1ms/step - loss: 2521.6479\n",
            "Epoch 88/250\n",
            "22/22 [==============================] - 0s 1ms/step - loss: 2385.3117\n",
            "Epoch 89/250\n",
            "22/22 [==============================] - 0s 1ms/step - loss: 2529.3229\n",
            "Epoch 90/250\n",
            "22/22 [==============================] - 0s 1ms/step - loss: 2514.6391\n",
            "Epoch 91/250\n",
            "22/22 [==============================] - 0s 1ms/step - loss: 2095.6077\n",
            "Epoch 92/250\n",
            "22/22 [==============================] - 0s 1ms/step - loss: 2290.1301\n",
            "Epoch 93/250\n",
            "22/22 [==============================] - 0s 1ms/step - loss: 2310.0857\n",
            "Epoch 94/250\n",
            "22/22 [==============================] - 0s 1ms/step - loss: 2049.9912\n",
            "Epoch 95/250\n",
            "22/22 [==============================] - 0s 1ms/step - loss: 2289.2722\n",
            "Epoch 96/250\n",
            "22/22 [==============================] - 0s 1ms/step - loss: 2126.0787\n",
            "Epoch 97/250\n",
            "22/22 [==============================] - 0s 1ms/step - loss: 1943.5535\n",
            "Epoch 98/250\n",
            "22/22 [==============================] - 0s 1ms/step - loss: 1999.8071\n",
            "Epoch 99/250\n",
            "22/22 [==============================] - 0s 1ms/step - loss: 1965.0823\n",
            "Epoch 100/250\n",
            "22/22 [==============================] - 0s 1ms/step - loss: 1978.0826\n",
            "Epoch 101/250\n",
            "22/22 [==============================] - 0s 1ms/step - loss: 2081.2307\n",
            "Epoch 102/250\n",
            "22/22 [==============================] - 0s 1ms/step - loss: 1962.3046\n",
            "Epoch 103/250\n",
            "22/22 [==============================] - 0s 1ms/step - loss: 1853.2165\n",
            "Epoch 104/250\n",
            "22/22 [==============================] - 0s 1ms/step - loss: 1765.0938\n",
            "Epoch 105/250\n",
            "22/22 [==============================] - 0s 1ms/step - loss: 1933.5642\n",
            "Epoch 106/250\n",
            "22/22 [==============================] - 0s 1ms/step - loss: 1661.5825\n",
            "Epoch 107/250\n",
            "22/22 [==============================] - 0s 1ms/step - loss: 1620.5270\n",
            "Epoch 108/250\n",
            "22/22 [==============================] - 0s 1ms/step - loss: 1710.0899\n",
            "Epoch 109/250\n",
            "22/22 [==============================] - 0s 2ms/step - loss: 1719.9528\n",
            "Epoch 110/250\n",
            "22/22 [==============================] - 0s 1ms/step - loss: 1572.5788\n",
            "Epoch 111/250\n",
            "22/22 [==============================] - 0s 1ms/step - loss: 1560.5196\n",
            "Epoch 112/250\n",
            "22/22 [==============================] - 0s 1ms/step - loss: 1581.1449\n",
            "Epoch 113/250\n",
            "22/22 [==============================] - 0s 1ms/step - loss: 1537.8754\n",
            "Epoch 114/250\n",
            "22/22 [==============================] - 0s 1ms/step - loss: 1528.2296\n",
            "Epoch 115/250\n",
            "22/22 [==============================] - 0s 1ms/step - loss: 1499.4879\n",
            "Epoch 116/250\n",
            "22/22 [==============================] - 0s 1ms/step - loss: 1479.8660\n",
            "Epoch 117/250\n",
            "22/22 [==============================] - 0s 1ms/step - loss: 1379.5337\n",
            "Epoch 118/250\n",
            "22/22 [==============================] - 0s 1ms/step - loss: 1384.2215\n",
            "Epoch 119/250\n",
            "22/22 [==============================] - 0s 1ms/step - loss: 1365.9866\n",
            "Epoch 120/250\n",
            "22/22 [==============================] - 0s 1ms/step - loss: 1247.9810\n",
            "Epoch 121/250\n",
            "22/22 [==============================] - 0s 1ms/step - loss: 1239.7671\n",
            "Epoch 122/250\n",
            "22/22 [==============================] - 0s 1ms/step - loss: 1264.3678\n",
            "Epoch 123/250\n",
            "22/22 [==============================] - 0s 1ms/step - loss: 1211.9916\n",
            "Epoch 124/250\n",
            "22/22 [==============================] - 0s 1ms/step - loss: 1209.7487\n",
            "Epoch 125/250\n",
            "22/22 [==============================] - 0s 1ms/step - loss: 1119.7440\n",
            "Epoch 126/250\n",
            "22/22 [==============================] - 0s 1ms/step - loss: 1181.1870\n",
            "Epoch 127/250\n",
            "22/22 [==============================] - 0s 1ms/step - loss: 1115.2748\n",
            "Epoch 128/250\n",
            "22/22 [==============================] - 0s 1ms/step - loss: 1098.4547\n",
            "Epoch 129/250\n",
            "22/22 [==============================] - 0s 1ms/step - loss: 983.7973\n",
            "Epoch 130/250\n",
            "22/22 [==============================] - 0s 1ms/step - loss: 1095.8840\n",
            "Epoch 131/250\n",
            "22/22 [==============================] - 0s 1ms/step - loss: 989.7296\n",
            "Epoch 132/250\n",
            "22/22 [==============================] - 0s 1ms/step - loss: 1041.1468\n",
            "Epoch 133/250\n",
            "22/22 [==============================] - 0s 1ms/step - loss: 941.7122\n",
            "Epoch 134/250\n",
            "22/22 [==============================] - 0s 1ms/step - loss: 928.6780\n",
            "Epoch 135/250\n",
            "22/22 [==============================] - 0s 1ms/step - loss: 858.7153\n",
            "Epoch 136/250\n",
            "22/22 [==============================] - 0s 1ms/step - loss: 835.3717\n",
            "Epoch 137/250\n",
            "22/22 [==============================] - 0s 1ms/step - loss: 829.3264\n",
            "Epoch 138/250\n",
            "22/22 [==============================] - 0s 1ms/step - loss: 792.3288\n",
            "Epoch 139/250\n",
            "22/22 [==============================] - 0s 1ms/step - loss: 764.6181\n",
            "Epoch 140/250\n",
            "22/22 [==============================] - 0s 1ms/step - loss: 789.1953\n",
            "Epoch 141/250\n",
            "22/22 [==============================] - 0s 1ms/step - loss: 708.4135\n",
            "Epoch 142/250\n",
            "22/22 [==============================] - 0s 1ms/step - loss: 679.4300\n",
            "Epoch 143/250\n",
            "22/22 [==============================] - 0s 1ms/step - loss: 663.5644\n",
            "Epoch 144/250\n",
            "22/22 [==============================] - 0s 1ms/step - loss: 637.3443\n",
            "Epoch 145/250\n",
            "22/22 [==============================] - 0s 1ms/step - loss: 655.4577\n",
            "Epoch 146/250\n",
            "22/22 [==============================] - 0s 1ms/step - loss: 565.4005\n",
            "Epoch 147/250\n",
            "22/22 [==============================] - 0s 1ms/step - loss: 582.2201\n",
            "Epoch 148/250\n",
            "22/22 [==============================] - 0s 1ms/step - loss: 589.6766\n",
            "Epoch 149/250\n",
            "22/22 [==============================] - 0s 1ms/step - loss: 534.3693\n",
            "Epoch 150/250\n",
            "22/22 [==============================] - 0s 1ms/step - loss: 580.5906\n",
            "Epoch 151/250\n",
            "22/22 [==============================] - 0s 1ms/step - loss: 527.2863\n",
            "Epoch 152/250\n",
            "22/22 [==============================] - 0s 1ms/step - loss: 469.4287\n",
            "Epoch 153/250\n",
            "22/22 [==============================] - 0s 1ms/step - loss: 517.2077\n",
            "Epoch 154/250\n",
            "22/22 [==============================] - 0s 1ms/step - loss: 458.2190\n",
            "Epoch 155/250\n",
            "22/22 [==============================] - 0s 1ms/step - loss: 450.7397\n",
            "Epoch 156/250\n",
            "22/22 [==============================] - 0s 1ms/step - loss: 429.4137\n",
            "Epoch 157/250\n",
            "22/22 [==============================] - 0s 1ms/step - loss: 419.0380\n",
            "Epoch 158/250\n",
            "22/22 [==============================] - 0s 1ms/step - loss: 371.4407\n",
            "Epoch 159/250\n",
            "22/22 [==============================] - 0s 1ms/step - loss: 345.2349\n",
            "Epoch 160/250\n",
            "22/22 [==============================] - 0s 1ms/step - loss: 343.4611\n",
            "Epoch 161/250\n",
            "22/22 [==============================] - 0s 1ms/step - loss: 349.4440\n",
            "Epoch 162/250\n",
            "22/22 [==============================] - 0s 1ms/step - loss: 300.3914\n",
            "Epoch 163/250\n",
            "22/22 [==============================] - 0s 1ms/step - loss: 305.1865\n",
            "Epoch 164/250\n",
            "22/22 [==============================] - 0s 1ms/step - loss: 285.3305\n",
            "Epoch 165/250\n",
            "22/22 [==============================] - 0s 1ms/step - loss: 249.1199\n",
            "Epoch 166/250\n",
            "22/22 [==============================] - 0s 2ms/step - loss: 228.1439\n",
            "Epoch 167/250\n",
            "22/22 [==============================] - 0s 1ms/step - loss: 234.5372\n",
            "Epoch 168/250\n",
            "22/22 [==============================] - 0s 1ms/step - loss: 211.2854\n",
            "Epoch 169/250\n",
            "22/22 [==============================] - 0s 1ms/step - loss: 202.4177\n",
            "Epoch 170/250\n",
            "22/22 [==============================] - 0s 1ms/step - loss: 182.1230\n",
            "Epoch 171/250\n",
            "22/22 [==============================] - 0s 1ms/step - loss: 188.2934\n",
            "Epoch 172/250\n",
            "22/22 [==============================] - 0s 1ms/step - loss: 156.3044\n",
            "Epoch 173/250\n",
            "22/22 [==============================] - 0s 1ms/step - loss: 150.0195\n",
            "Epoch 174/250\n",
            "22/22 [==============================] - 0s 1ms/step - loss: 126.8494\n",
            "Epoch 175/250\n",
            "22/22 [==============================] - 0s 1ms/step - loss: 121.0444\n",
            "Epoch 176/250\n",
            "22/22 [==============================] - 0s 1ms/step - loss: 114.0153\n",
            "Epoch 177/250\n",
            "22/22 [==============================] - 0s 1ms/step - loss: 102.3209\n",
            "Epoch 178/250\n",
            "22/22 [==============================] - 0s 1ms/step - loss: 101.5947\n",
            "Epoch 179/250\n",
            "22/22 [==============================] - 0s 1ms/step - loss: 91.1941\n",
            "Epoch 180/250\n",
            "22/22 [==============================] - 0s 1ms/step - loss: 91.6583\n",
            "Epoch 181/250\n",
            "22/22 [==============================] - 0s 1ms/step - loss: 78.1094\n",
            "Epoch 182/250\n",
            "22/22 [==============================] - 0s 1ms/step - loss: 67.8672\n",
            "Epoch 183/250\n",
            "22/22 [==============================] - 0s 1ms/step - loss: 63.0484\n",
            "Epoch 184/250\n",
            "22/22 [==============================] - 0s 1ms/step - loss: 63.2562\n",
            "Epoch 185/250\n",
            "22/22 [==============================] - 0s 1ms/step - loss: 56.1983\n",
            "Epoch 186/250\n",
            "22/22 [==============================] - 0s 1ms/step - loss: 52.8955\n",
            "Epoch 187/250\n",
            "22/22 [==============================] - 0s 1ms/step - loss: 46.1805\n",
            "Epoch 188/250\n",
            "22/22 [==============================] - 0s 1ms/step - loss: 41.1135\n",
            "Epoch 189/250\n",
            "22/22 [==============================] - 0s 1ms/step - loss: 43.0857\n",
            "Epoch 190/250\n",
            "22/22 [==============================] - 0s 1ms/step - loss: 41.1245\n",
            "Epoch 191/250\n",
            "22/22 [==============================] - 0s 1ms/step - loss: 35.6559\n",
            "Epoch 192/250\n",
            "22/22 [==============================] - 0s 1ms/step - loss: 34.6684\n",
            "Epoch 193/250\n",
            "22/22 [==============================] - 0s 1ms/step - loss: 30.5410\n",
            "Epoch 194/250\n",
            "22/22 [==============================] - 0s 1ms/step - loss: 29.8282\n",
            "Epoch 195/250\n",
            "22/22 [==============================] - 0s 1ms/step - loss: 30.2042\n",
            "Epoch 196/250\n",
            "22/22 [==============================] - 0s 1ms/step - loss: 27.0427\n",
            "Epoch 197/250\n",
            "22/22 [==============================] - 0s 1ms/step - loss: 28.4387\n",
            "Epoch 198/250\n",
            "22/22 [==============================] - 0s 1ms/step - loss: 25.6438\n",
            "Epoch 199/250\n",
            "22/22 [==============================] - 0s 1ms/step - loss: 27.3093\n",
            "Epoch 200/250\n",
            "22/22 [==============================] - 0s 1ms/step - loss: 25.8661\n",
            "Epoch 201/250\n",
            "22/22 [==============================] - 0s 1ms/step - loss: 28.0886\n",
            "Epoch 202/250\n",
            "22/22 [==============================] - 0s 1ms/step - loss: 25.4019\n",
            "Epoch 203/250\n",
            "22/22 [==============================] - 0s 1ms/step - loss: 27.3611\n",
            "Epoch 204/250\n",
            "22/22 [==============================] - 0s 2ms/step - loss: 25.5990\n",
            "Epoch 205/250\n",
            "22/22 [==============================] - 0s 1ms/step - loss: 26.1505\n",
            "Epoch 206/250\n",
            "22/22 [==============================] - 0s 1ms/step - loss: 24.2515\n",
            "Epoch 207/250\n",
            "22/22 [==============================] - 0s 1ms/step - loss: 24.5069\n",
            "Epoch 208/250\n",
            "22/22 [==============================] - 0s 1ms/step - loss: 26.0604\n",
            "Epoch 209/250\n",
            "22/22 [==============================] - 0s 1ms/step - loss: 25.9364\n",
            "Epoch 210/250\n",
            "22/22 [==============================] - 0s 1ms/step - loss: 24.6943\n",
            "Epoch 211/250\n",
            "22/22 [==============================] - 0s 1ms/step - loss: 24.8551\n",
            "Epoch 212/250\n",
            "22/22 [==============================] - 0s 1ms/step - loss: 25.2468\n",
            "Epoch 213/250\n",
            "22/22 [==============================] - 0s 1ms/step - loss: 24.2134\n",
            "Epoch 214/250\n",
            "22/22 [==============================] - 0s 1ms/step - loss: 25.1752\n",
            "Epoch 215/250\n",
            "22/22 [==============================] - 0s 1ms/step - loss: 24.3612\n",
            "Epoch 216/250\n",
            "22/22 [==============================] - 0s 1ms/step - loss: 21.9316\n",
            "Epoch 217/250\n",
            "22/22 [==============================] - 0s 1ms/step - loss: 27.1399\n",
            "Epoch 218/250\n",
            "22/22 [==============================] - 0s 1ms/step - loss: 23.4228\n",
            "Epoch 219/250\n",
            "22/22 [==============================] - 0s 1ms/step - loss: 23.7827\n",
            "Epoch 220/250\n",
            "22/22 [==============================] - 0s 1ms/step - loss: 24.5799\n",
            "Epoch 221/250\n",
            "22/22 [==============================] - 0s 1ms/step - loss: 23.5012\n",
            "Epoch 222/250\n",
            "22/22 [==============================] - 0s 1ms/step - loss: 25.1841\n",
            "Epoch 223/250\n",
            "22/22 [==============================] - 0s 1ms/step - loss: 25.1592\n",
            "Epoch 224/250\n",
            "22/22 [==============================] - 0s 1ms/step - loss: 22.6740\n",
            "Epoch 225/250\n",
            "22/22 [==============================] - 0s 1ms/step - loss: 23.7579\n",
            "Epoch 226/250\n",
            "22/22 [==============================] - 0s 1ms/step - loss: 23.6139\n",
            "Epoch 227/250\n",
            "22/22 [==============================] - 0s 2ms/step - loss: 25.4123\n",
            "Epoch 228/250\n",
            "22/22 [==============================] - 0s 1ms/step - loss: 24.7088\n",
            "Epoch 229/250\n",
            "22/22 [==============================] - 0s 1ms/step - loss: 22.6659\n",
            "Epoch 230/250\n",
            "22/22 [==============================] - 0s 1ms/step - loss: 24.0633\n",
            "Epoch 231/250\n",
            "22/22 [==============================] - 0s 1ms/step - loss: 23.0476\n",
            "Epoch 232/250\n",
            "22/22 [==============================] - 0s 1ms/step - loss: 23.8715\n",
            "Epoch 233/250\n",
            "22/22 [==============================] - 0s 1ms/step - loss: 24.6428\n",
            "Epoch 234/250\n",
            "22/22 [==============================] - 0s 1ms/step - loss: 25.8911\n",
            "Epoch 235/250\n",
            "22/22 [==============================] - 0s 1ms/step - loss: 25.3934\n",
            "Epoch 236/250\n",
            "22/22 [==============================] - 0s 1ms/step - loss: 23.9294\n",
            "Epoch 237/250\n",
            "22/22 [==============================] - 0s 1ms/step - loss: 25.6426\n",
            "Epoch 238/250\n",
            "22/22 [==============================] - 0s 1ms/step - loss: 23.5970\n",
            "Epoch 239/250\n",
            "22/22 [==============================] - 0s 1ms/step - loss: 23.0219\n",
            "Epoch 240/250\n",
            "22/22 [==============================] - 0s 2ms/step - loss: 24.5526\n",
            "Epoch 241/250\n",
            "22/22 [==============================] - 0s 1ms/step - loss: 23.5476\n",
            "Epoch 242/250\n",
            "22/22 [==============================] - 0s 1ms/step - loss: 25.2648\n",
            "Epoch 243/250\n",
            "22/22 [==============================] - 0s 1ms/step - loss: 22.8444\n",
            "Epoch 244/250\n",
            "22/22 [==============================] - 0s 1ms/step - loss: 22.6880\n",
            "Epoch 245/250\n",
            "22/22 [==============================] - 0s 1ms/step - loss: 24.6108\n",
            "Epoch 246/250\n",
            "22/22 [==============================] - 0s 1ms/step - loss: 23.2109\n",
            "Epoch 247/250\n",
            "22/22 [==============================] - 0s 1ms/step - loss: 22.6258\n",
            "Epoch 248/250\n",
            "22/22 [==============================] - 0s 1ms/step - loss: 23.9572\n",
            "Epoch 249/250\n",
            "22/22 [==============================] - 0s 1ms/step - loss: 24.0111\n",
            "Epoch 250/250\n",
            "22/22 [==============================] - 0s 1ms/step - loss: 22.5322\n"
          ],
          "name": "stdout"
        },
        {
          "output_type": "execute_result",
          "data": {
            "text/plain": [
              "<tensorflow.python.keras.callbacks.History at 0x7fa6b0095278>"
            ]
          },
          "metadata": {
            "tags": []
          },
          "execution_count": 20
        }
      ]
    },
    {
      "cell_type": "code",
      "metadata": {
        "id": "GlDpzvixxFa0"
      },
      "source": [
        "loss_data = pd.DataFrame(model.history.history)"
      ],
      "execution_count": 21,
      "outputs": []
    },
    {
      "cell_type": "code",
      "metadata": {
        "id": "TyvAxTJdxFdZ",
        "colab": {
          "base_uri": "https://localhost:8080/",
          "height": 284
        },
        "outputId": "fa4d09b3-1e48-4b90-e865-1cd99c176c6f"
      },
      "source": [
        "loss_data.plot()"
      ],
      "execution_count": 22,
      "outputs": [
        {
          "output_type": "execute_result",
          "data": {
            "text/plain": [
              "<matplotlib.axes._subplots.AxesSubplot at 0x7fa6ad9396a0>"
            ]
          },
          "metadata": {
            "tags": []
          },
          "execution_count": 22
        },
        {
          "output_type": "display_data",
          "data": {
            "image/png": "[encoded data removed]",
            "text/plain": [
              "<Figure size 432x288 with 1 Axes>"
            ]
          },
          "metadata": {
            "tags": []
          }
        }
      ]
    },
    {
      "cell_type": "code",
      "metadata": {
        "id": "DDv9iNPbxFgf",
        "colab": {
          "base_uri": "https://localhost:8080/"
        },
        "outputId": "c1e7b5f3-ad9d-404a-e704-314f47d3c5fd"
      },
      "source": [
        "# Model Evaluation\n",
        "model.evaluate(X_test,y_test,verbose=0)"
      ],
      "execution_count": 23,
      "outputs": [
        {
          "output_type": "execute_result",
          "data": {
            "text/plain": [
              "26.93435287475586"
            ]
          },
          "metadata": {
            "tags": []
          },
          "execution_count": 23
        }
      ]
    },
    {
      "cell_type": "code",
      "metadata": {
        "colab": {
          "base_uri": "https://localhost:8080/"
        },
        "id": "HA313tYg42Hi",
        "outputId": "c6513928-13a8-4467-e800-cf929d51f304"
      },
      "source": [
        "# Model Evaluation\n",
        "model.evaluate(X_train,y_train,verbose=0)"
      ],
      "execution_count": 24,
      "outputs": [
        {
          "output_type": "execute_result",
          "data": {
            "text/plain": [
              "24.644079208374023"
            ]
          },
          "metadata": {
            "tags": []
          },
          "execution_count": 24
        }
      ]
    },
    {
      "cell_type": "code",
      "metadata": {
        "id": "E6WGRnK-5Ajl"
      },
      "source": [
        "test_predictions = model.predict(X_test)"
      ],
      "execution_count": 25,
      "outputs": []
    },
    {
      "cell_type": "code",
      "metadata": {
        "id": "764ikaXN5Am5"
      },
      "source": [
        "# Passando para um pandas Series\n",
        "test_predictions = pd.Series(test_predictions.reshape(300,))"
      ],
      "execution_count": 26,
      "outputs": []
    },
    {
      "cell_type": "code",
      "metadata": {
        "id": "Vq3wTiny5hMy"
      },
      "source": [
        "pred_df = pd.DataFrame(y_test, columns=['Test True Y'])"
      ],
      "execution_count": 27,
      "outputs": []
    },
    {
      "cell_type": "code",
      "metadata": {
        "id": "-w_Tqglc54B6"
      },
      "source": [
        "pred_df = pd.concat([pred_df,test_predictions],axis=1)"
      ],
      "execution_count": 28,
      "outputs": []
    },
    {
      "cell_type": "code",
      "metadata": {
        "id": "Zq4mbhyq54EP"
      },
      "source": [
        "pred_df.columns = ['Test True Y', 'Predictions']"
      ],
      "execution_count": 29,
      "outputs": []
    },
    {
      "cell_type": "code",
      "metadata": {
        "colab": {
          "base_uri": "https://localhost:8080/",
          "height": 407
        },
        "id": "HZ6u27V554HY",
        "outputId": "bcb2e565-2441-4480-ec50-4cb0e101842c"
      },
      "source": [
        "fig = plt.figure(figsize=(10,6))\n",
        "sns.scatterplot(x='Test True Y', y='Predictions', data=pred_df)"
      ],
      "execution_count": 30,
      "outputs": [
        {
          "output_type": "execute_result",
          "data": {
            "text/plain": [
              "<matplotlib.axes._subplots.AxesSubplot at 0x7fa6ad01e4a8>"
            ]
          },
          "metadata": {
            "tags": []
          },
          "execution_count": 30
        },
        {
          "output_type": "display_data",
          "data": {
            "image/png": "[encoded data removed]",
            "text/plain": [
              "<Figure size 720x432 with 1 Axes>"
            ]
          },
          "metadata": {
            "tags": []
          }
        }
      ]
    },
    {
      "cell_type": "code",
      "metadata": {
        "id": "BJmgj9T46_Zh"
      },
      "source": [
        "# Metricas de validaçao de regressoes\n",
        "from sklearn.metrics import mean_absolute_error, mean_squared_error"
      ],
      "execution_count": 31,
      "outputs": []
    },
    {
      "cell_type": "code",
      "metadata": {
        "colab": {
          "base_uri": "https://localhost:8080/"
        },
        "id": "VTVrojsB6_eF",
        "outputId": "8a4a28f7-7f2a-474d-a162-eaeeb3726fea"
      },
      "source": [
        "mean_absolute_error(pred_df['Test True Y'], pred_df['Predictions'])"
      ],
      "execution_count": 32,
      "outputs": [
        {
          "output_type": "execute_result",
          "data": {
            "text/plain": [
              "4.208807068479741"
            ]
          },
          "metadata": {
            "tags": []
          },
          "execution_count": 32
        }
      ]
    },
    {
      "cell_type": "code",
      "metadata": {
        "colab": {
          "base_uri": "https://localhost:8080/"
        },
        "id": "j3Jef1Fv6_hE",
        "outputId": "d9399c82-c682-45eb-a217-02ea27f10235"
      },
      "source": [
        "mean_squared_error(pred_df['Test True Y'], pred_df['Predictions'])"
      ],
      "execution_count": 33,
      "outputs": [
        {
          "output_type": "execute_result",
          "data": {
            "text/plain": [
              "26.934353877400646"
            ]
          },
          "metadata": {
            "tags": []
          },
          "execution_count": 33
        }
      ]
    },
    {
      "cell_type": "code",
      "metadata": {
        "colab": {
          "base_uri": "https://localhost:8080/"
        },
        "id": "mRe1H9WM90Hs",
        "outputId": "c347da98-6ec6-4142-886b-864b0b33b16c"
      },
      "source": [
        "# Root Mean Square error:\n",
        "mean_squared_error(pred_df['Test True Y'], pred_df['Predictions'])**0.5"
      ],
      "execution_count": 34,
      "outputs": [
        {
          "output_type": "execute_result",
          "data": {
            "text/plain": [
              "5.189831777370115"
            ]
          },
          "metadata": {
            "tags": []
          },
          "execution_count": 34
        }
      ]
    },
    {
      "cell_type": "code",
      "metadata": {
        "id": "hqC5dyDe-7pT"
      },
      "source": [
        "# PREDIZENDO NOVOS DADOS\n",
        "new_gem = [[998,1000]]"
      ],
      "execution_count": 35,
      "outputs": []
    },
    {
      "cell_type": "code",
      "metadata": {
        "id": "tp1Py7HW_Gp7"
      },
      "source": [
        "new_gem = scaler.transform(new_gem)"
      ],
      "execution_count": 36,
      "outputs": []
    },
    {
      "cell_type": "code",
      "metadata": {
        "colab": {
          "base_uri": "https://localhost:8080/"
        },
        "id": "wp1kUHuD-7sM",
        "outputId": "a4196614-5ac6-4ef8-f633-bf3ca5cd4022"
      },
      "source": [
        "# Predizendo o valor para os novos features:\n",
        "model.predict(new_gem)"
      ],
      "execution_count": 37,
      "outputs": [
        {
          "output_type": "execute_result",
          "data": {
            "text/plain": [
              "array([[420.73398]], dtype=float32)"
            ]
          },
          "metadata": {
            "tags": []
          },
          "execution_count": 37
        }
      ]
    },
    {
      "cell_type": "code",
      "metadata": {
        "id": "0UUsqdRY-7w5"
      },
      "source": [
        "# SALVANDO O MODELO:\n",
        "from tensorflow.keras.models import load_model"
      ],
      "execution_count": 38,
      "outputs": []
    },
    {
      "cell_type": "code",
      "metadata": {
        "id": "zFBP9mBX_8GO"
      },
      "source": [
        "# Salvando em H5 file\n",
        "model.save('my_gem_model.h5')"
      ],
      "execution_count": 39,
      "outputs": []
    },
    {
      "cell_type": "code",
      "metadata": {
        "id": "4z7wm-5Y_8Md"
      },
      "source": [
        "later_model = load_model('my_gem_model.h5')"
      ],
      "execution_count": 40,
      "outputs": []
    },
    {
      "cell_type": "code",
      "metadata": {
        "colab": {
          "base_uri": "https://localhost:8080/"
        },
        "id": "nm-RZeq4_8Q9",
        "outputId": "3ff72352-d2d8-435a-ae4d-982e1a794655"
      },
      "source": [
        "later_model.predict(new_gem)"
      ],
      "execution_count": 41,
      "outputs": [
        {
          "output_type": "execute_result",
          "data": {
            "text/plain": [
              "array([[420.73398]], dtype=float32)"
            ]
          },
          "metadata": {
            "tags": []
          },
          "execution_count": 41
        }
      ]
    }
  ]
}